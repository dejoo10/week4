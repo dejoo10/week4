{
  "cells": [
    {
      "cell_type": "markdown",
      "metadata": {
        "id": "BGVymvSbW-TM"
      },
      "source": [
        "## Neural Networks with Scikit-Learn\n",
        "\n",
        "> for more info [here](https://stackabuse.com/introduction-to-neural-networks-with-scikit-learn/)"
      ]
    },
    {
      "cell_type": "code",
      "execution_count": null,
      "metadata": {
        "id": "hsjeb88Fj5og"
      },
      "outputs": [],
      "source": [
        "import pandas as pd\n",
        "\n",
        "# Location of dataset\n",
        "url = \"https://archive.ics.uci.edu/ml/machine-learning-databases/iris/iris.data\"\n",
        "\n",
        "# Assign column names to the dataset\n",
        "names = ['sepal-length', 'sepal-width', 'petal-length', 'petal-width', 'Class']\n",
        "\n",
        "# Read dataset to pandas dataframe\n",
        "irisdata = pd.read_csv(url, names=names)"
      ]
    },
    {
      "cell_type": "code",
      "execution_count": null,
      "metadata": {
        "id": "6rgZPNfakEiA"
      },
      "outputs": [],
      "source": [
        "irisdata.head()"
      ]
    },
    {
      "cell_type": "code",
      "execution_count": null,
      "metadata": {
        "id": "tZ8QfvB_kIV3"
      },
      "outputs": [],
      "source": [
        "# Assign data from first four columns to X variable\n",
        "X = irisdata.iloc[:, 0:4]\n",
        "\n",
        "# Assign data from fifth column to y variable\n",
        "y = irisdata.iloc[:, 4]\n"
      ]
    },
    {
      "cell_type": "markdown",
      "metadata": {
        "id": "Qcj-Upy1kl2S"
      },
      "source": [
        "In this code snippet, iloc[:, 4] selects all rows from the fifth column of irisdata and assigns it to the variable y.\n",
        "\n",
        "\n",
        "\n",
        "\n",
        "\n",
        "\n"
      ]
    },
    {
      "cell_type": "code",
      "execution_count": null,
      "metadata": {
        "id": "vTrtbw-mkOLI"
      },
      "outputs": [],
      "source": [
        "y.head()"
      ]
    },
    {
      "cell_type": "markdown",
      "metadata": {
        "id": "OIQLskV0lO8w"
      },
      "source": [
        "let's see how many unique values we have in our y series."
      ]
    },
    {
      "cell_type": "code",
      "execution_count": null,
      "metadata": {
        "id": "7ZnQ_5uskwTw"
      },
      "outputs": [],
      "source": [
        "y.unique()"
      ]
    },
    {
      "cell_type": "markdown",
      "metadata": {
        "id": "OX0B_SOalSaf"
      },
      "source": [
        "We have three unique classes: 'Iris-setosa', 'Iris-versicolor' and 'Iris-virginica'. Let's convert these categorical values to numerical values. To do so we will use Scikit-Learn's LabelEncoder class."
      ]
    },
    {
      "cell_type": "code",
      "execution_count": null,
      "metadata": {
        "id": "ga8aycbWk3hY"
      },
      "outputs": [],
      "source": [
        "from sklearn import preprocessing\n",
        "le = preprocessing.LabelEncoder()\n",
        "\n",
        "# Fit and transform y\n",
        "y_encoded = le.fit_transform(y)\n",
        "\n",
        "\n",
        "\n"
      ]
    },
    {
      "cell_type": "markdown",
      "metadata": {
        "id": "FUBiWX1nrJgF"
      },
      "source": [
        " if you check unique values in the y_encoded series, you will see following results:"
      ]
    },
    {
      "cell_type": "code",
      "execution_count": null,
      "metadata": {
        "id": "MOJgMvfMqCbU"
      },
      "outputs": [],
      "source": [
        "import pandas as pd\n",
        "\n",
        "\n",
        "# Convert y_encoded back to pandas Series\n",
        "y_series = pd.Series(y_encoded)\n",
        "\n",
        "# Print the pandas Series\n",
        "print(y_series.unique())\n"
      ]
    },
    {
      "cell_type": "markdown",
      "metadata": {
        "id": "LvMuDwBllnZo"
      },
      "source": [
        "we will divide our dataset into training and test splits. The training data will be used to train the neural network and the test data will be used to evaluate the performance of the neural network."
      ]
    },
    {
      "cell_type": "code",
      "execution_count": null,
      "metadata": {
        "id": "OArWZxt1lqmQ"
      },
      "outputs": [],
      "source": [
        "from sklearn.model_selection import train_test_split\n",
        "# Split the dataset into training and testing sets\n",
        "X_train, X_test, y_train, y_test = train_test_split(X, y_series, test_size=0.20, random_state=42)\n",
        "\n",
        "print(\"X_train shape:\", X_train.shape)\n",
        "print(\"X_test shape:\", X_test.shape)\n",
        "print(\"y_train shape:\", y_train.shape)\n",
        "print(\"y_test shape:\", y_test.shape)"
      ]
    },
    {
      "cell_type": "markdown",
      "metadata": {
        "id": "RSSN23zArafy"
      },
      "source": [
        "Before making actual predictions, it is always a good practice to scale the features so that all of them can be uniformly evaluated. Feature scaling is performed only on the training data and not on test data. This is because in the real world, data is not scaled and the ultimate purpose of the neural network is to make predictions on real world data. Therefore, we try to keep our test data as real as possible."
      ]
    },
    {
      "cell_type": "code",
      "execution_count": null,
      "metadata": {
        "id": "fzDHQ-jorcuK"
      },
      "outputs": [],
      "source": [
        "from sklearn.preprocessing import StandardScaler\n",
        "scaler = StandardScaler()\n",
        "scaler.fit(X_train)\n",
        "\n",
        "X_train = scaler.transform(X_train)\n",
        "X_test = scaler.transform(X_test)"
      ]
    },
    {
      "cell_type": "markdown",
      "metadata": {
        "id": "uahTRgvFtYFK"
      },
      "source": [
        "### Explanantion\n",
        "\n",
        "In the line `scaler = StandardScaler()`, the `StandardScaler` method from the `sklearn.preprocessing` module is used to perform standardization on the features.\n",
        "\n",
        "Standardization (or Z-score normalization) scales the features such that they have a mean of 0 and a standard deviation of 1. The formula for standardization is:\n",
        "\n",
        "\\[ \\text{Standardized value} = \\frac{\\text{Original value} - \\text{Mean}}{\\text{Standard deviation}} \\]\n",
        "\n",
        "Here's a brief overview of how `StandardScaler` works:\n",
        "\n",
        "1. **Fit**: When you call `scaler.fit(X_train)`, the `StandardScaler` computes the mean and standard deviation of each feature in the training set `X_train`.\n",
        "\n",
        "2. **Transform**: After fitting the scaler, you can use it to transform the training set to standardize the features using the computed mean and standard deviation. This is done using the `scaler.transform()` method.\n",
        "\n",
        "### Here's an example:\n",
        "\n"
      ]
    },
    {
      "cell_type": "code",
      "execution_count": null,
      "metadata": {
        "id": "AMMSmhFKsYi4"
      },
      "outputs": [],
      "source": [
        "import numpy as np\n",
        "from sklearn.preprocessing import StandardScaler\n",
        "\n",
        "# Create the dataset\n",
        "data = np.array([[25, 50000],\n",
        "                 [30, 75000],\n",
        "                 [35, 100000],\n",
        "                 [40, 60000],\n",
        "                 [45, 90000]])\n",
        "\n",
        "# Initialize StandardScaler\n",
        "scaler = StandardScaler()\n",
        "\n",
        "# Fit on the entire data\n",
        "scaler.fit(data)\n",
        "\n",
        "# Transform the entire data\n",
        "data_scaled = scaler.transform(data)\n",
        "\n",
        "# Print original and scaled data\n",
        "print(\"Original Data:\")\n",
        "print(data)\n",
        "print(\"\\nScaled Data:\")\n",
        "print(data_scaled)\n"
      ]
    },
    {
      "cell_type": "markdown",
      "metadata": {
        "id": "6Is_UuIlyg3c"
      },
      "source": [
        "now it's  time to train a neural network that can actually make predictions."
      ]
    },
    {
      "cell_type": "code",
      "execution_count": null,
      "metadata": {
        "id": "w6oTEr9Nt0Qz"
      },
      "outputs": [],
      "source": [
        "from sklearn.neural_network import MLPClassifier\n",
        "mlp = MLPClassifier(hidden_layer_sizes=(10, 10, 10), max_iter=1000)\n",
        "mlp.fit(X_train, y_train.values.ravel())"
      ]
    },
    {
      "cell_type": "markdown",
      "metadata": {
        "id": "wpqcTWa8ysQF"
      },
      "source": [
        "The first step is to import the MLPClassifier class from the sklearn.neural_network library. In the second line, this class is initialized with two parameters.\n",
        "\n",
        "The first parameter, hidden_layer_sizes, is used to set the size of the hidden layers. In our script we will create three layers of 10 nodes each. There is no standard formula for choosing the number of layers and nodes for a neural network and it varies quite a bit depending on the problem at hand. The best way is to try different combinations and see what works best.\n",
        "\n",
        "The second parameter to MLPClassifier specifies the number of iterations, or the epochs, that you want your neural network to execute. Remember, one epoch is a combination of one cycle of feed-forward and back propagation phase.\n",
        "\n",
        "By default the 'ReLU' activation function is used with adam cost optimizer. However, you can change these functions using the activation and solver parameters, respectively.\n",
        "\n",
        "In the third line the fit function is used to train the algorithm on our training data i.e. X_train and y_train."
      ]
    },
    {
      "cell_type": "markdown",
      "metadata": {
        "id": "FSLKq6KHyzWE"
      },
      "source": [
        "### Predictions\n",
        "The final step is to make predictions on our test data. To do so, execute the following script:"
      ]
    },
    {
      "cell_type": "code",
      "execution_count": null,
      "metadata": {
        "id": "nETud_taywYT"
      },
      "outputs": [],
      "source": [
        "predictions = mlp.predict(X_test)"
      ]
    },
    {
      "cell_type": "markdown",
      "metadata": {
        "id": "CoPzhng-y4tJ"
      },
      "source": [
        "### Evaluating the Algorithm"
      ]
    },
    {
      "cell_type": "code",
      "execution_count": null,
      "metadata": {
        "id": "x34kQkIry9RQ"
      },
      "outputs": [],
      "source": [
        "from sklearn.metrics import classification_report, confusion_matrix\n",
        "\n",
        "conf_matrix = confusion_matrix(y_test, predictions)\n",
        "print(conf_matrix)\n",
        "print(classification_report(y_test,predictions))"
      ]
    },
    {
      "cell_type": "markdown",
      "metadata": {
        "id": "mN8Zl3kYzGpV"
      },
      "source": [
        "Let's break down each part of the output:\n",
        "\n",
        "### Confusion Matrix:\n",
        "```\n",
        "[[10  0  0]\n",
        " [ 0  9  0]\n",
        " [ 0  0 11]]\n",
        "```\n",
        "- The confusion matrix shows the counts of true positive, false positive, true negative, and false negative predictions for each class.\n",
        "- In this matrix:\n",
        "  - Class `0` has 10 true positives.\n",
        "  - Class `1` has 9 true positives.\n",
        "  - Class `2` has 11 true positives.\n",
        "  - There are no false positives or false negatives for any class.\n",
        "\n",
        "### Classification Report:\n",
        "```\n",
        "              precision    recall  f1-score   support\n",
        "```\n",
        "- **Precision**: Precision is the ratio of true positive predictions to the total predicted positives. It indicates how many of the items identified as positive are actually positive.\n",
        "  \n",
        "- **Recall (Sensitivity)**: Recall is the ratio of true positive predictions to the total actual positives. It indicates how many of the actual positive items were identified correctly.\n",
        "  \n",
        "- **F1-Score**: The F1-score is the harmonic mean of precision and recall, providing a balance between the two metrics. It is a measure of a test's accuracy and is particularly useful when the classes are imbalanced.\n",
        "  \n",
        "- **Support**: Support is the number of actual occurrences of the class in the specified dataset.\n",
        "\n",
        "### Analysis:\n",
        "\n",
        "- **Accuracy**: The overall accuracy of the model is 1.00 or 100%, which means all predictions made by the model are correct for the given test dataset.\n",
        "\n",
        "- **Per-Class Metrics**:\n",
        "  - For class `0`: Precision, Recall, and F1-score are all 1.00, indicating perfect predictions for this class.\n",
        "  - For class `1`: Precision, Recall, and F1-score are all 1.00, indicating perfect predictions for this class.\n",
        "  - For class `2`: Precision, Recall, and F1-score are all 1.00, indicating perfect predictions for this class.\n"
      ]
    },
    {
      "cell_type": "code",
      "execution_count": null,
      "metadata": {
        "id": "jPhmTsDQzIPs"
      },
      "outputs": [],
      "source": [
        "import seaborn as sns\n",
        "import matplotlib.pyplot as plt\n",
        "\n",
        "\n",
        "# Define class labels\n",
        "class_labels = ['Class 0', 'Class 1', 'Class 2']\n",
        "\n",
        "# Create a heatmap\n",
        "plt.figure(figsize=(8, 6))\n",
        "sns.heatmap(conf_matrix, annot=True, cmap='Blues', fmt='g', xticklabels=class_labels, yticklabels=class_labels)\n",
        "\n",
        "# Add labels and title\n",
        "plt.xlabel('Predicted labels')\n",
        "plt.ylabel('True labels')\n",
        "plt.title('Confusion Matrix')\n",
        "\n",
        "# Show plot\n",
        "plt.show()\n"
      ]
    },
    {
      "cell_type": "markdown",
      "metadata": {},
      "source": [
        "The F1 score is a metric used to evaluate the performance of a classification model, especially when dealing with imbalanced datasets. It combines both precision and recall to provide a single score that represents the balance between the two.\n",
        "\n",
        "### Components\n",
        "\n",
        "1. **Precision**: \n",
        "   - It is the ratio of correctly predicted positive observations to the total predicted positives.\n",
        "   $$\n",
        "   \\text{Precision} = \\frac{\\text{True Positives}}{\\text{True Positives} + \\text{False Positives}}\n",
        "   $$\n",
        "\n",
        "2. **Recall (Sensitivity)**:\n",
        "   - It is the ratio of correctly predicted positive observations to the all observations in the actual class.\n",
        "   $$\n",
        "   \\text{Recall} = \\frac{\\text{True Positives}}{\\text{True Positives} + \\text{False Negatives}}\n",
        "   $$\n",
        "\n",
        "### F1 Score\n",
        "\n",
        "The F1 score is the harmonic mean of precision and recall, and it's calculated using the following formula:\n",
        "$$\n",
        "\\text{F1 Score} = 2 \\times \\frac{\\text{Precision} \\times \\text{Recall}}{\\text{Precision} + \\text{Recall}}\n",
        "$$\n",
        "\n",
        "### Importance\n",
        "\n",
        "- **Imbalanced Datasets**: F1 score is particularly useful when you have an imbalanced dataset where the number of samples in different classes varies widely. In such cases, accuracy may not be a good metric due to the skewed distribution of classes.\n",
        "\n",
        "- **Harmonic Mean**: F1 score considers both precision and recall, providing a balance between them. It gives equal importance to both metrics and penalizes extreme values, making it a robust metric for evaluating classifier performance.\n",
        "\n",
        "### Interpretation\n",
        "\n",
        "- **Range**: F1 score ranges from 0 to 1, where a higher value indicates better model performance.\n",
        "  \n",
        "- **Balanced Performance**: A high F1 score implies that the model has both high precision and high recall, indicating balanced performance between false positives and false negatives.\n",
        "\n",
        "### Summary\n",
        "\n",
        "- **F1 Score** is a metric that combines precision and recall to evaluate the performance of a classification model.\n",
        "  \n",
        "- **Harmonic Mean**: It uses the harmonic mean to provide a balanced measure between precision and recall, making it suitable for imbalanced datasets.\n",
        "\n",
        "In conclusion, the F1 score is a valuable metric for evaluating classification models, especially when you need to balance between precision and recall, such as in medical diagnosis, fraud detection, or any other application where false positives and false negatives have different implications."
      ]
    },
    {
      "cell_type": "markdown",
      "metadata": {
        "id": "luHY4fwQ4SM2"
      },
      "source": [
        "## Conclusion:\n",
        "The model appears to perform exceptionally well on the test dataset, achieving perfect precision, recall, and F1-score for each class. However, it's important to note that this high level of performance might be indicative of an overfit model, especially if the model has not been evaluated on a separate validation set.\n",
        "\n",
        "### Ref\n",
        "\n",
        "- [https://stackabuse.com/introduction-to-neural-networks-with-scikit-learn/](https://stackabuse.com/introduction-to-neural-networks-with-scikit-learn/)"
      ]
    }
  ],
  "metadata": {
    "colab": {
      "provenance": []
    },
    "kernelspec": {
      "display_name": "Python 3",
      "name": "python3"
    },
    "language_info": {
      "name": "python"
    }
  },
  "nbformat": 4,
  "nbformat_minor": 0
}
