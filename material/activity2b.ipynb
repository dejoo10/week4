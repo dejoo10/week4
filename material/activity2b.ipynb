{
  "nbformat": 4,
  "nbformat_minor": 0,
  "metadata": {
    "colab": {
      "provenance": []
    },
    "kernelspec": {
      "name": "python3",
      "display_name": "Python 3"
    },
    "language_info": {
      "name": "python"
    }
  },
  "cells": [
    {
      "cell_type": "markdown",
      "source": [
        "## Neural Networks with Scikit-Learn: Regression vs Classification\n",
        "\n",
        "> For more info [here](https://coderzcolumn.com/tutorials/machine-learning/scikit-learn-sklearn-neural-network)"
      ],
      "metadata": {
        "id": "pmAwso-NYieE"
      }
    },
    {
      "cell_type": "code",
      "execution_count": null,
      "metadata": {
        "id": "jEZR7Bej4m7b"
      },
      "outputs": [],
      "source": [
        "import numpy as np\n",
        "import pandas as pd\n",
        "import matplotlib.pyplot as plt\n",
        "\n",
        "import sklearn\n",
        "\n",
        "import itertools\n",
        "import warnings\n",
        "warnings.filterwarnings('ignore')\n",
        "\n",
        "np.set_printoptions(precision=2)\n",
        "%matplotlib inline"
      ]
    },
    {
      "cell_type": "markdown",
      "source": [
        "-----\n",
        "\n",
        "## MLPClassifier"
      ],
      "metadata": {
        "id": "qJjuBNYA9SBG"
      }
    },
    {
      "cell_type": "code",
      "source": [
        "from sklearn.datasets import load_digits\n",
        "\n",
        "digits = load_digits()\n",
        "X_digits, Y_digits = digits.data, digits.target\n",
        "print('Dataset Sizes : ', X_digits.shape, Y_digits.shape)"
      ],
      "metadata": {
        "id": "e2aIX2sF4sZ-"
      },
      "execution_count": null,
      "outputs": []
    },
    {
      "cell_type": "code",
      "source": [
        "from sklearn.model_selection import train_test_split\n",
        "\n",
        "X_train, X_test, Y_train, Y_test = train_test_split(X_digits, Y_digits, train_size=0.80, test_size=0.20, stratify=Y_digits, random_state=123)\n",
        "print('Train/Test Sizes : ', X_train.shape, X_test.shape, Y_train.shape, Y_test.shape)"
      ],
      "metadata": {
        "id": "6wLntCY27Ke1"
      },
      "execution_count": null,
      "outputs": []
    },
    {
      "cell_type": "code",
      "source": [
        "from sklearn.neural_network import MLPClassifier\n",
        "\n",
        "mlp_classifier  = MLPClassifier(random_state=123)\n",
        "mlp_classifier.fit(X_train, Y_train)"
      ],
      "metadata": {
        "id": "94BL0RAi7Q-M"
      },
      "execution_count": null,
      "outputs": []
    },
    {
      "cell_type": "code",
      "source": [
        "Y_preds = mlp_classifier.predict(X_test)\n",
        "\n",
        "print(Y_preds[:15])\n",
        "print(Y_test[:15])\n",
        "\n",
        "print('Test Accuracy : %.3f'%mlp_classifier.score(X_test, Y_test)) ## Score method also evaluates accuracy for classification models.\n",
        "print('Training Accuracy : %.3f'%mlp_classifier.score(X_train, Y_train))"
      ],
      "metadata": {
        "id": "SZFX63zr7VH8"
      },
      "execution_count": null,
      "outputs": []
    },
    {
      "cell_type": "code",
      "source": [
        "from sklearn.metrics import confusion_matrix\n",
        "\n",
        "def plot_confusion_matrix(Y_test, Y_preds):\n",
        "    conf_mat = confusion_matrix(Y_test, Y_preds)\n",
        "    print(conf_mat)\n",
        "    fig = plt.figure(figsize=(6,6))\n",
        "    plt.matshow(conf_mat, cmap=plt.cm.Blues, fignum=1)\n",
        "    plt.yticks(range(10), range(10))\n",
        "    plt.xticks(range(10), range(10))\n",
        "    plt.colorbar();\n",
        "    for i in range(10):\n",
        "        for j in range(10):\n",
        "            plt.text(i-0.2,j+0.1, str(conf_mat[j, i]), color='tab:red')"
      ],
      "metadata": {
        "id": "XpBCnh4X7cI2"
      },
      "execution_count": null,
      "outputs": []
    },
    {
      "cell_type": "code",
      "source": [
        "plot_confusion_matrix(Y_test, mlp_classifier.predict(X_test))"
      ],
      "metadata": {
        "id": "j6jL0Fo47wKu"
      },
      "execution_count": null,
      "outputs": []
    },
    {
      "cell_type": "markdown",
      "source": [
        "### Important Attributes of MLPClassifier\n",
        "\n",
        "Below is a list of important attributes available with an MLPClassifier which can provide meaningful insights once the model is trained.\n",
        "\n",
        "    loss_ - Loss after the training process has completed.\n",
        "    coefs_ - An array of length n_layers-1 where each element represents weights associated with layer i.\n",
        "    intercepts_ - An array of length n_layers-1 where each element represents intercept associated with layer i's perceptrons.\n",
        "    n_iter_ - The number of iterations for which estimator ran.\n",
        "    out_activation_ - Name of output layer activation function.\n",
        "\n"
      ],
      "metadata": {
        "id": "-KPCC6Il8Lfy"
      }
    },
    {
      "cell_type": "code",
      "source": [
        "print(\"Loss : \", mlp_classifier.loss_)"
      ],
      "metadata": {
        "id": "j6bgsDED75vg"
      },
      "execution_count": null,
      "outputs": []
    },
    {
      "cell_type": "code",
      "source": [
        "print(\"Number of Coefs : \", len(mlp_classifier.coefs_))\n",
        "\n",
        "[weights.shape for weights in mlp_classifier.coefs_]"
      ],
      "metadata": {
        "id": "G1-pIqYp78sw"
      },
      "execution_count": null,
      "outputs": []
    },
    {
      "cell_type": "code",
      "source": [
        "print(\"Number of Intercepts : \", len(mlp_classifier.intercepts_))\n",
        "\n",
        "[intercept.shape for intercept in mlp_classifier.intercepts_]"
      ],
      "metadata": {
        "id": "_j17IwBN8CVI"
      },
      "execution_count": null,
      "outputs": []
    },
    {
      "cell_type": "code",
      "source": [
        "print(\"Number of Iterations for Which Estimator Ran : \", mlp_classifier.n_iter_)"
      ],
      "metadata": {
        "id": "NjZa8fIu8FDV"
      },
      "execution_count": null,
      "outputs": []
    },
    {
      "cell_type": "code",
      "source": [
        "print(\"Name of Output Layer Activation Function : \", mlp_classifier.out_activation_)"
      ],
      "metadata": {
        "id": "vsV--BDR8HXd"
      },
      "execution_count": null,
      "outputs": []
    },
    {
      "cell_type": "markdown",
      "source": [
        "### GridSearchCV\n",
        "\n",
        "It's a wrapper class provided by sklearn which loops through all parameters provided as params_grid parameter with a number of cross-validation folds provided as cv parameter, evaluates model performance on all combinations and stores all results in cv_results_ attribute. It also stores model which performs best in all cross-validation folds in best_estimator_ attribute and best score in best_score_ attribute."
      ],
      "metadata": {
        "id": "4XEFKpZQ_rRG"
      }
    },
    {
      "cell_type": "code",
      "source": [
        "from sklearn.model_selection import GridSearchCV\n",
        "'''\n",
        "params = {'activation': ['relu', 'tanh', 'logistic', 'identity'],\n",
        "          'hidden_layer_sizes': [(100,), (50,100,), (50,75,100,)],\n",
        "          'solver': ['adam', 'sgd', 'lbfgs'],\n",
        "          'learning_rate' : ['constant', 'adaptive', 'invscaling']\n",
        "         }\n",
        "'''\n",
        "params = {'activation': ['relu', 'tanh'],\n",
        "          'hidden_layer_sizes': [(100,), (50,100,), (50,75,100,)],\n",
        "          'solver': ['adam', 'sgd'],\n",
        "          'learning_rate' : ['constant']\n",
        "         }\n",
        "\n",
        "mlp_classif_grid = GridSearchCV(MLPClassifier(random_state=123), param_grid=params, n_jobs=-1, cv=2, verbose=5)\n",
        "mlp_classif_grid.fit(X_train,Y_train)\n",
        "\n",
        "print('Train Accuracy : %.3f'%mlp_classif_grid.best_estimator_.score(X_train, Y_train))\n",
        "print('Test Accuracy : %.3f'%mlp_classif_grid.best_estimator_.score(X_test, Y_test))\n",
        "print('Best Accuracy Through Grid Search : %.3f'%mlp_classif_grid.best_score_)\n",
        "print('Best Parameters : ',mlp_classif_grid.best_params_)"
      ],
      "metadata": {
        "id": "wTNv0rdo-4Pu"
      },
      "execution_count": null,
      "outputs": []
    },
    {
      "cell_type": "code",
      "source": [
        "plot_confusion_matrix(Y_test, mlp_classif_grid.best_estimator_.predict(X_test))"
      ],
      "metadata": {
        "id": "GtUMBSWD_fZY"
      },
      "execution_count": null,
      "outputs": []
    },
    {
      "cell_type": "markdown",
      "source": [
        "--------\n",
        "\n",
        "## MLPRegressor\n"
      ],
      "metadata": {
        "id": "EnDrjfmI9AEm"
      }
    },
    {
      "cell_type": "markdown",
      "source": [
        "### Boston housing prices dataset : Ethical concerns\n",
        "\n",
        "The Boston housing prices dataset has an ethical problem: as\n",
        "investigated [here](https://medium.com/@docintangible/racist-data-destruction-113e3eff54a8).\n",
        "\n"
      ],
      "metadata": {
        "id": "-zsYLLNS6aVe"
      }
    },
    {
      "cell_type": "code",
      "source": [
        "#from sklearn.datasets import load_boston"
      ],
      "metadata": {
        "colab": {
          "base_uri": "https://localhost:8080/",
          "height": 1000
        },
        "id": "4mF9ue4M5K60",
        "outputId": "2bd38cea-cc5a-41d0-d2b4-c871be1c64d5"
      },
      "execution_count": null,
      "outputs": [
        {
          "output_type": "error",
          "ename": "ImportError",
          "evalue": "\n`load_boston` has been removed from scikit-learn since version 1.2.\n\nThe Boston housing prices dataset has an ethical problem: as\ninvestigated in [1], the authors of this dataset engineered a\nnon-invertible variable \"B\" assuming that racial self-segregation had a\npositive impact on house prices [2]. Furthermore the goal of the\nresearch that led to the creation of this dataset was to study the\nimpact of air quality but it did not give adequate demonstration of the\nvalidity of this assumption.\n\nThe scikit-learn maintainers therefore strongly discourage the use of\nthis dataset unless the purpose of the code is to study and educate\nabout ethical issues in data science and machine learning.\n\nIn this special case, you can fetch the dataset from the original\nsource::\n\n    import pandas as pd\n    import numpy as np\n\n    data_url = \"http://lib.stat.cmu.edu/datasets/boston\"\n    raw_df = pd.read_csv(data_url, sep=\"\\s+\", skiprows=22, header=None)\n    data = np.hstack([raw_df.values[::2, :], raw_df.values[1::2, :2]])\n    target = raw_df.values[1::2, 2]\n\nAlternative datasets include the California housing dataset and the\nAmes housing dataset. You can load the datasets as follows::\n\n    from sklearn.datasets import fetch_california_housing\n    housing = fetch_california_housing()\n\nfor the California housing dataset and::\n\n    from sklearn.datasets import fetch_openml\n    housing = fetch_openml(name=\"house_prices\", as_frame=True)\n\nfor the Ames housing dataset.\n\n[1] M Carlisle.\n\"Racist data destruction?\"\n<https://medium.com/@docintangible/racist-data-destruction-113e3eff54a8>\n\n[2] Harrison Jr, David, and Daniel L. Rubinfeld.\n\"Hedonic housing prices and the demand for clean air.\"\nJournal of environmental economics and management 5.1 (1978): 81-102.\n<https://www.researchgate.net/publication/4974606_Hedonic_housing_prices_and_the_demand_for_clean_air>\n",
          "traceback": [
            "\u001b[0;31m---------------------------------------------------------------------------\u001b[0m",
            "\u001b[0;31mImportError\u001b[0m                               Traceback (most recent call last)",
            "\u001b[0;32m<ipython-input-15-1ed36436ffa3>\u001b[0m in \u001b[0;36m<cell line: 1>\u001b[0;34m()\u001b[0m\n\u001b[0;32m----> 1\u001b[0;31m \u001b[0;32mfrom\u001b[0m \u001b[0msklearn\u001b[0m\u001b[0;34m.\u001b[0m\u001b[0mdatasets\u001b[0m \u001b[0;32mimport\u001b[0m \u001b[0mload_boston\u001b[0m\u001b[0;34m\u001b[0m\u001b[0;34m\u001b[0m\u001b[0m\n\u001b[0m",
            "\u001b[0;32m/usr/local/lib/python3.10/dist-packages/sklearn/datasets/__init__.py\u001b[0m in \u001b[0;36m__getattr__\u001b[0;34m(name)\u001b[0m\n\u001b[1;32m    154\u001b[0m             \"\"\"\n\u001b[1;32m    155\u001b[0m         )\n\u001b[0;32m--> 156\u001b[0;31m         \u001b[0;32mraise\u001b[0m \u001b[0mImportError\u001b[0m\u001b[0;34m(\u001b[0m\u001b[0mmsg\u001b[0m\u001b[0;34m)\u001b[0m\u001b[0;34m\u001b[0m\u001b[0;34m\u001b[0m\u001b[0m\n\u001b[0m\u001b[1;32m    157\u001b[0m     \u001b[0;32mtry\u001b[0m\u001b[0;34m:\u001b[0m\u001b[0;34m\u001b[0m\u001b[0;34m\u001b[0m\u001b[0m\n\u001b[1;32m    158\u001b[0m         \u001b[0;32mreturn\u001b[0m \u001b[0mglobals\u001b[0m\u001b[0;34m(\u001b[0m\u001b[0;34m)\u001b[0m\u001b[0;34m[\u001b[0m\u001b[0mname\u001b[0m\u001b[0;34m]\u001b[0m\u001b[0;34m\u001b[0m\u001b[0;34m\u001b[0m\u001b[0m\n",
            "\u001b[0;31mImportError\u001b[0m: \n`load_boston` has been removed from scikit-learn since version 1.2.\n\nThe Boston housing prices dataset has an ethical problem: as\ninvestigated in [1], the authors of this dataset engineered a\nnon-invertible variable \"B\" assuming that racial self-segregation had a\npositive impact on house prices [2]. Furthermore the goal of the\nresearch that led to the creation of this dataset was to study the\nimpact of air quality but it did not give adequate demonstration of the\nvalidity of this assumption.\n\nThe scikit-learn maintainers therefore strongly discourage the use of\nthis dataset unless the purpose of the code is to study and educate\nabout ethical issues in data science and machine learning.\n\nIn this special case, you can fetch the dataset from the original\nsource::\n\n    import pandas as pd\n    import numpy as np\n\n    data_url = \"http://lib.stat.cmu.edu/datasets/boston\"\n    raw_df = pd.read_csv(data_url, sep=\"\\s+\", skiprows=22, header=None)\n    data = np.hstack([raw_df.values[::2, :], raw_df.values[1::2, :2]])\n    target = raw_df.values[1::2, 2]\n\nAlternative datasets include the California housing dataset and the\nAmes housing dataset. You can load the datasets as follows::\n\n    from sklearn.datasets import fetch_california_housing\n    housing = fetch_california_housing()\n\nfor the California housing dataset and::\n\n    from sklearn.datasets import fetch_openml\n    housing = fetch_openml(name=\"house_prices\", as_frame=True)\n\nfor the Ames housing dataset.\n\n[1] M Carlisle.\n\"Racist data destruction?\"\n<https://medium.com/@docintangible/racist-data-destruction-113e3eff54a8>\n\n[2] Harrison Jr, David, and Daniel L. Rubinfeld.\n\"Hedonic housing prices and the demand for clean air.\"\nJournal of environmental economics and management 5.1 (1978): 81-102.\n<https://www.researchgate.net/publication/4974606_Hedonic_housing_prices_and_the_demand_for_clean_air>\n",
            "",
            "\u001b[0;31m---------------------------------------------------------------------------\u001b[0;32m\nNOTE: If your import is failing due to a missing package, you can\nmanually install dependencies using either !pip or !apt.\n\nTo view examples of installing some common dependencies, click the\n\"Open Examples\" button below.\n\u001b[0;31m---------------------------------------------------------------------------\u001b[0m\n"
          ],
          "errorDetails": {
            "actions": [
              {
                "action": "open_url",
                "actionText": "Open Examples",
                "url": "/notebooks/snippets/importing_libraries.ipynb"
              }
            ]
          }
        }
      ]
    },
    {
      "cell_type": "markdown",
      "source": [
        "The scikit-learn maintainers therefore strongly discourage the use of\n",
        "this dataset unless the purpose of the code is to study and educate\n",
        "about ethical issues in data science and machine learning."
      ],
      "metadata": {
        "id": "z3CPACI69in1"
      }
    },
    {
      "cell_type": "code",
      "source": [
        "    URL = \"http://lib.stat.cmu.edu/datasets/boston\"\n",
        "    raw_df = pd.read_csv(URL, sep=\"\\s+\", skiprows=22, header=None)\n",
        "    X_boston = np.hstack([raw_df.values[::2, :], raw_df.values[1::2, :2]])\n",
        "    Y_boston  = raw_df.values[1::2, 2]\n",
        "    print('Dataset Sizes : ', X_boston.shape, Y_boston.shape)"
      ],
      "metadata": {
        "id": "n1nOvaFB5Ya2"
      },
      "execution_count": null,
      "outputs": []
    },
    {
      "cell_type": "code",
      "source": [
        "X_train, X_test, Y_train, Y_test = train_test_split(X_boston, Y_boston, train_size=0.80, test_size=0.20, random_state=123)\n",
        "print('Train/Test Sizes : ', X_train.shape, X_test.shape, Y_train.shape, Y_test.shape)"
      ],
      "metadata": {
        "id": "TjkkF3WR9oCW"
      },
      "execution_count": null,
      "outputs": []
    },
    {
      "cell_type": "code",
      "source": [
        "from sklearn.neural_network import MLPRegressor\n",
        "\n",
        "mlp_regressor  = MLPRegressor(random_state=123)\n",
        "mlp_regressor.fit(X_train, Y_train)"
      ],
      "metadata": {
        "id": "Xv9PaZKB9sFZ"
      },
      "execution_count": null,
      "outputs": []
    },
    {
      "cell_type": "code",
      "source": [
        "Y_preds = mlp_regressor.predict(X_test)\n",
        "\n",
        "print(Y_preds[:10])\n",
        "print(Y_test[:10])\n",
        "\n",
        "print('Test R^2 Score : %.3f'%mlp_regressor.score(X_test, Y_test)) ## Score method also evaluates accuracy for classification models.\n",
        "print('Training R^2 Score : %.3f'%mlp_regressor.score(X_train, Y_train))"
      ],
      "metadata": {
        "id": "xrVMwsba9vYp"
      },
      "execution_count": null,
      "outputs": []
    },
    {
      "cell_type": "markdown",
      "source": [
        "### Important Attributes of MLPRegressor"
      ],
      "metadata": {
        "id": "DWfZuJEf91gR"
      }
    },
    {
      "cell_type": "code",
      "source": [
        "print(\"Loss : \", mlp_regressor.loss_)"
      ],
      "metadata": {
        "id": "DbOqhl3E95mR"
      },
      "execution_count": null,
      "outputs": []
    },
    {
      "cell_type": "code",
      "source": [
        "print(\"Number of Coefs : \", len(mlp_regressor.coefs_))\n",
        "\n",
        "[weights.shape for weights in mlp_regressor.coefs_]"
      ],
      "metadata": {
        "id": "LlMIfXqa98Oo"
      },
      "execution_count": null,
      "outputs": []
    },
    {
      "cell_type": "code",
      "source": [
        "print(\"Number of Intercepts : \", len(mlp_regressor.intercepts_))\n",
        "\n",
        "[intercept.shape for intercept in mlp_regressor.intercepts_]"
      ],
      "metadata": {
        "id": "yQBwMcpV9-j3"
      },
      "execution_count": null,
      "outputs": []
    },
    {
      "cell_type": "code",
      "source": [
        "print(\"Number of Iterations for Which Estimator Ran : \", mlp_regressor.n_iter_)"
      ],
      "metadata": {
        "id": "g4icpuxT-BSY"
      },
      "execution_count": null,
      "outputs": []
    },
    {
      "cell_type": "code",
      "source": [
        "print(\"Name of Output Layer Activation Function : \", mlp_regressor.out_activation_)"
      ],
      "metadata": {
        "id": "kL-SBhfI-Da4"
      },
      "execution_count": null,
      "outputs": []
    },
    {
      "cell_type": "markdown",
      "source": [
        "### GridSearchCV\n",
        "\n"
      ],
      "metadata": {
        "id": "w7kI2htA-v_R"
      }
    },
    {
      "cell_type": "code",
      "source": [
        "from sklearn.preprocessing import StandardScaler\n",
        "\n",
        "# Scale the data\n",
        "scaler = StandardScaler()\n",
        "X_train_scaled = scaler.fit_transform(X_train)\n",
        "\n",
        "# Define the parameter grid\n",
        "params = {\n",
        "    'activation': ['relu', 'tanh', 'logistic', 'identity'],\n",
        "    'hidden_layer_sizes': [(100,), (50,100,), (50,75,100,)],\n",
        "    'solver': ['adam'],\n",
        "    'learning_rate': ['constant']\n",
        "}\n",
        "\n",
        "# Create MLPRegressor and GridSearchCV objects\n",
        "mlp_regressor_grid = GridSearchCV(MLPRegressor(random_state=123),\n",
        "                                  param_grid=params,\n",
        "                                  n_jobs=-1,\n",
        "                                  cv=2,\n",
        "                                  verbose=5,\n",
        "                                  error_score='raise')  # Set error_score to raise exceptions\n",
        "\n",
        "# Fit the model with scaled data\n",
        "mlp_regressor_grid.fit(X_train_scaled, Y_train)\n",
        "\n",
        "# Print results\n",
        "print('Train Score (R^2): %.3f' % mlp_regressor_grid.best_estimator_.score(X_train_scaled, Y_train))\n",
        "print('Best Parameters:', mlp_regressor_grid.best_params_)\n"
      ],
      "metadata": {
        "id": "M50l9kLmAIcu"
      },
      "execution_count": null,
      "outputs": []
    },
    {
      "cell_type": "code",
      "source": [
        "# Predict on test set\n",
        "predictions = mlp_regressor_grid.best_estimator_.predict(X_test)\n",
        "\n",
        "# Plot actual vs predicted values\n",
        "plt.figure(figsize=(10, 6))\n",
        "plt.scatter(Y_test, predictions, c='blue')\n",
        "plt.xlabel('Actual Values')\n",
        "plt.ylabel('Predicted Values')\n",
        "plt.title('Actual vs Predicted Values')\n",
        "plt.show()\n"
      ],
      "metadata": {
        "id": "j8tChs4mANXJ"
      },
      "execution_count": null,
      "outputs": []
    },
    {
      "cell_type": "markdown",
      "source": [
        "## Ref\n",
        "\n",
        "[https://coderzcolumn.com/tutorials/machine-learning/scikit-learn-sklearn-neural-network](https://coderzcolumn.com/tutorials/machine-learning/scikit-learn-sklearn-neural-network)"
      ],
      "metadata": {
        "id": "AGfAnCxvARrJ"
      }
    }
  ]
}